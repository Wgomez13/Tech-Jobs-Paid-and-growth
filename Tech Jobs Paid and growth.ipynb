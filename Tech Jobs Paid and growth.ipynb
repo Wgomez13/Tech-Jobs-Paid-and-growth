{
 "cells": [
  {
   "cell_type": "code",
   "execution_count": 314,
   "metadata": {},
   "outputs": [],
   "source": [
    "import pandas as pd"
   ]
  },
  {
   "cell_type": "code",
   "execution_count": 315,
   "metadata": {},
   "outputs": [],
   "source": [
    "import sqlite3"
   ]
  },
  {
   "cell_type": "code",
   "execution_count": 316,
   "metadata": {},
   "outputs": [],
   "source": [
    "from matplotlib import pyplot as plt"
   ]
  },
  {
   "cell_type": "code",
   "execution_count": 356,
   "metadata": {},
   "outputs": [],
   "source": [
    "jobs = pd.read_csv('Tech Jobs paid 2015-2018.csv')"
   ]
  },
  {
   "cell_type": "code",
   "execution_count": 357,
   "metadata": {},
   "outputs": [],
   "source": [
    "jobs.to_sql('jobs', sqlite3.connect('TechJobsPaid.db'), if_exists = \"replace\")"
   ]
  },
  {
   "cell_type": "code",
   "execution_count": 358,
   "metadata": {},
   "outputs": [],
   "source": [
    "con = sqlite3.connect('TechJobsPaid.db')"
   ]
  },
  {
   "cell_type": "code",
   "execution_count": 363,
   "metadata": {},
   "outputs": [],
   "source": [
    "web_developer = pd.read_sql_query(\"SELECT  Job_title , Entry_Hourly , Estimated_Employment , Year , Zone FROM Jobs WHERE ID = 6 AND Zone = 'Kentuckiana Works' ORDER by Year \" , con)"
   ]
  },
  {
   "cell_type": "code",
   "execution_count": 364,
   "metadata": {},
   "outputs": [],
   "source": [
    "#  Has a web developers pay increased in the Louisville area in the past four years?\n",
    "# Have the number of jobs in web developing increased in the Louisville area in the \n",
    "# past four years?"
   ]
  },
  {
   "cell_type": "code",
   "execution_count": 391,
   "metadata": {},
   "outputs": [],
   "source": [
    "web_developer[\"Year\"] = web_developer[\"Year\"].astype(str)\n",
    "# I have to chage the data type in oder for the chart to look right in this case the year"
   ]
  },
  {
   "cell_type": "code",
   "execution_count": 392,
   "metadata": {},
   "outputs": [
    {
     "data": {
      "text/html": [
       "<div>\n",
       "<style scoped>\n",
       "    .dataframe tbody tr th:only-of-type {\n",
       "        vertical-align: middle;\n",
       "    }\n",
       "\n",
       "    .dataframe tbody tr th {\n",
       "        vertical-align: top;\n",
       "    }\n",
       "\n",
       "    .dataframe thead th {\n",
       "        text-align: right;\n",
       "    }\n",
       "</style>\n",
       "<table border=\"1\" class=\"dataframe\">\n",
       "  <thead>\n",
       "    <tr style=\"text-align: right;\">\n",
       "      <th></th>\n",
       "      <th>Job_Title</th>\n",
       "      <th>Entry_Hourly</th>\n",
       "      <th>Estimated_Employment</th>\n",
       "      <th>Year</th>\n",
       "      <th>Zone</th>\n",
       "    </tr>\n",
       "  </thead>\n",
       "  <tbody>\n",
       "    <tr>\n",
       "      <th>0</th>\n",
       "      <td>Web Developers</td>\n",
       "      <td>11.0</td>\n",
       "      <td>330</td>\n",
       "      <td>2015</td>\n",
       "      <td>Kentuckiana Works</td>\n",
       "    </tr>\n",
       "    <tr>\n",
       "      <th>1</th>\n",
       "      <td>Web Developers</td>\n",
       "      <td>16.0</td>\n",
       "      <td>370</td>\n",
       "      <td>2016</td>\n",
       "      <td>Kentuckiana Works</td>\n",
       "    </tr>\n",
       "    <tr>\n",
       "      <th>2</th>\n",
       "      <td>Web Developers</td>\n",
       "      <td>17.0</td>\n",
       "      <td>330</td>\n",
       "      <td>2017</td>\n",
       "      <td>Kentuckiana Works</td>\n",
       "    </tr>\n",
       "    <tr>\n",
       "      <th>3</th>\n",
       "      <td>Web Developers</td>\n",
       "      <td>15.0</td>\n",
       "      <td>620</td>\n",
       "      <td>2018</td>\n",
       "      <td>Kentuckiana Works</td>\n",
       "    </tr>\n",
       "  </tbody>\n",
       "</table>\n",
       "</div>"
      ],
      "text/plain": [
       "        Job_Title  Entry_Hourly  Estimated_Employment  Year               Zone\n",
       "0  Web Developers          11.0                   330  2015  Kentuckiana Works\n",
       "1  Web Developers          16.0                   370  2016  Kentuckiana Works\n",
       "2  Web Developers          17.0                   330  2017  Kentuckiana Works\n",
       "3  Web Developers          15.0                   620  2018  Kentuckiana Works"
      ]
     },
     "execution_count": 392,
     "metadata": {},
     "output_type": "execute_result"
    }
   ],
   "source": [
    "web_developer"
   ]
  },
  {
   "cell_type": "code",
   "execution_count": 393,
   "metadata": {},
   "outputs": [],
   "source": [
    "web_developer[\"Estimated_Employment\"] = web_developer[\"Estimated_Employment\"].astype(int)\n",
    "# I have to chage the data type in oder for the chart to look right in this case the Estimated_Employment"
   ]
  },
  {
   "cell_type": "code",
   "execution_count": 394,
   "metadata": {},
   "outputs": [
    {
     "data": {
      "text/plain": [
       "Job_Title                object\n",
       "Entry_Hourly            float64\n",
       "Estimated_Employment      int64\n",
       "Year                     object\n",
       "Zone                     object\n",
       "dtype: object"
      ]
     },
     "execution_count": 394,
     "metadata": {},
     "output_type": "execute_result"
    }
   ],
   "source": [
    "web_developer.dtypes"
   ]
  },
  {
   "cell_type": "code",
   "execution_count": 395,
   "metadata": {},
   "outputs": [
    {
     "data": {
      "image/png": "[encoded data removed]",
      "text/plain": [
       "<Figure size 432x288 with 1 Axes>"
      ]
     },
     "metadata": {
      "needs_background": "light"
     },
     "output_type": "display_data"
    }
   ],
   "source": [
    "plt.plot(web_developer.Year, web_developer.Entry_Hourly , 'g.-')\n",
    "plt.title ('Paid Rate 2015-2018', fontdict={'fontsize' : 20})\n",
    "plt.xlabel('Year')\n",
    "plt.ylabel('Hourly Rate for Jnior Web Developer')\n",
    "plt.show()"
   ]
  },
  {
   "cell_type": "code",
   "execution_count": 396,
   "metadata": {},
   "outputs": [],
   "source": [
    "# Have the paid for does wed developer jobs increase?"
   ]
  },
  {
   "cell_type": "code",
   "execution_count": 397,
   "metadata": {},
   "outputs": [
    {
     "data": {
      "image/png": "[encoded data removed]",
      "text/plain": [
       "<Figure size 432x288 with 1 Axes>"
      ]
     },
     "metadata": {
      "needs_background": "light"
     },
     "output_type": "display_data"
    }
   ],
   "source": [
    "plt.bar(web_developer.Year, web_developer.Estimated_Employment)\n",
    "plt.title ('Web Developer Jobs Growth', fontdict={'fontsize' : 20})\n",
    "plt.xlabel('Year')\n",
    "plt.ylabel('Estimated Numbers of Jobs')\n",
    "plt.show()"
   ]
  },
  {
   "cell_type": "code",
   "execution_count": null,
   "metadata": {},
   "outputs": [],
   "source": [
    "# The final product concludes that the estimated job growth has increased. \n",
    "# However, the hourly pay despite a three year steady increase from 2015-2017,  \n",
    "# decreased in 2018."
   ]
  },
  {
   "cell_type": "code",
   "execution_count": null,
   "metadata": {},
   "outputs": [],
   "source": []
  }
 ],
 "metadata": {
  "kernelspec": {
   "display_name": "Python 3",
   "language": "python",
   "name": "python3"
  },
  "language_info": {
   "codemirror_mode": {
    "name": "ipython",
    "version": 3
   },
   "file_extension": ".py",
   "mimetype": "text/x-python",
   "name": "python",
   "nbconvert_exporter": "python",
   "pygments_lexer": "ipython3",
   "version": "3.7.3"
  }
 },
 "nbformat": 4,
 "nbformat_minor": 2
}
